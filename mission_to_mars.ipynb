{
 "cells": [
  {
   "cell_type": "code",
   "execution_count": 1,
   "metadata": {},
   "outputs": [],
   "source": [
    "import pandas as pd\n",
    "from bs4 import BeautifulSoup\n",
    "import requests\n",
    "from splinter import Browser\n",
    "import pymongo"
   ]
  },
  {
   "cell_type": "code",
   "execution_count": 2,
   "metadata": {},
   "outputs": [],
   "source": [
    "def init_browser():\n",
    "    executable_path = {\"executable_path\": \"C:\\\\Users\\\\erinn\\\\Documents\\\\WashU\\\\chromedriver.exe\"}\n",
    "    return Browser(\"chrome\", **executable_path, headless=False)\n"
   ]
  },
  {
   "cell_type": "code",
   "execution_count": 9,
   "metadata": {},
   "outputs": [],
   "source": [
    "def scrape():\n",
    "    browser = init_browser()\n",
    "    listings = []\n",
    "\n",
    "    url = \"https://mars.nasa.gov/news/\"\n",
    "    browser.visit(url)\n",
    "\n",
    "    html = browser.html\n",
    "    soup = BeautifulSoup(html, \"html.parser\")\n",
    "    news_title = soup.find_all(\"div\", {\"class\": \"content_title\"})\n",
    "    print(news_title)\n",
    "    \n",
    "    news_p = soup.find_all(\"div\", {\"class\": \"article_teaser_body\"})\n",
    "    print(news_p)\n",
    "    for news in news_p:\n",
    "        print(news.text)\n",
    "        \n",
    "     "
   ]
  },
  {
   "cell_type": "code",
   "execution_count": 10,
   "metadata": {
    "tags": [
     "outputPrepend"
    ]
   },
   "outputs": [
    {
     "output_type": "stream",
     "name": "stdout",
     "text": [
      "ty Rover Captures Shining Clouds on Mars</a></div>, <div class=\"content_title\"><a href=\"/news/8954/life-goals-nasa-software-unlocks-martian-rover-productivity/\" target=\"_self\">Life Goals: NASA Software Unlocks Martian Rover Productivity</a></div>, <div class=\"content_title\"><a href=\"/news/8950/salts-could-be-important-piece-of-martian-organic-puzzle/\" target=\"_self\">Salts Could Be Important Piece of Martian Organic Puzzle</a></div>, <div class=\"content_title\"><a href=\"/news/8946/seeing-nasas-ingenuity-mars-helicopter-fly-in-3d/\" target=\"_self\">Seeing NASA's Ingenuity Mars Helicopter Fly in 3D</a></div>, <div class=\"content_title\"><a href=\"/news/8944/perseverances-robotic-arm-starts-conducting-science/\" target=\"_self\">Perseverance's Robotic Arm Starts Conducting Science</a></div>, <div class=\"content_title\"><a href=\"/news/8942/nasas-ingenuity-mars-helicopter-completes-first-one-way-trip/\" target=\"_self\">NASA's Ingenuity Mars Helicopter Completes First One-Way Trip  </a></div>, <div class=\"content_title\"><a href=\"/news/8941/nasas-perseverance-captures-video-audio-of-fourth-ingenuity-flight/\" target=\"_self\">NASA's Perseverance Captures Video, Audio of Fourth Ingenuity Flight</a></div>, <div class=\"content_title\"><a href=\"/news/8936/nasas-ingenuity-helicopter-to-begin-new-demonstration-phase/\" target=\"_self\">NASA's Ingenuity Helicopter to Begin New Demonstration Phase</a></div>, <div class=\"content_title\"><a href=\"/news/8934/nasa-sets-briefing-to-discuss-ingenuity-mars-helicopter-next-steps/\" target=\"_self\">NASA Sets Briefing to Discuss Ingenuity Mars Helicopter Next Steps</a></div>, <div class=\"content_title\"><a href=\"/news/8933/with-goals-met-nasa-to-push-envelope-with-ingenuity-mars-helicopter/\" target=\"_self\">With Goals Met, NASA to Push Envelope With Ingenuity Mars Helicopter</a></div>, <div class=\"content_title\"><a href=\"/news/8930/nasas-ingenuity-mars-helicopter-flies-faster-farther-on-third-flight/\" target=\"_self\">NASA's Ingenuity Mars Helicopter Flies Faster, Farther on Third Flight</a></div>, <div class=\"content_title\"><a href=\"/news/8928/nasas-ingenuity-mars-helicopter-logs-second-successful-flight/\" target=\"_self\">NASA's Ingenuity Mars Helicopter Logs Second Successful Flight</a></div>, <div class=\"content_title\"><a href=\"/news/8926/nasas-perseverance-mars-rover-extracts-first-oxygen-from-red-planet/\" target=\"_self\">NASA's Perseverance Mars Rover Extracts First Oxygen From Red Planet</a></div>, <div class=\"content_title\"><a href=\"/news/8923/nasas-ingenuity-mars-helicopter-succeeds-in-historic-first-flight/\" target=\"_self\">NASA's Ingenuity Mars Helicopter Succeeds in Historic First Flight</a></div>, <div class=\"content_title\"><a href=\"/news/8919/nasa-to-attempt-first-controlled-flight-on-mars-as-soon-as-monday/\" target=\"_self\">NASA to Attempt First Controlled Flight on Mars As Soon As Monday</a></div>, <div class=\"content_title\"><a href=\"/news/8915/nasas-mars-helicopter-to-make-first-flight-attempt/\" target=\"_self\">NASA's Mars Helicopter to Make First Flight Attempt</a></div>, <div class=\"content_title\"><a href=\"/news/8914/webinars-taking-flight-how-girls-can-grow-up-to-be-engineers/\" target=\"_self\">Webinars--Taking Flight: How Girls Can Grow up to Be Engineers </a></div>, <div class=\"content_title\"><a href=\"/news/8912/say-cheese-on-mars-perseverances-selfie-with-ingenuity/\" target=\"_self\">Say Cheese on Mars: Perseverance's Selfie With Ingenuity</a></div>, <div class=\"content_title\"><a href=\"/news/8911/nasas-odyssey-orbiter-marks-20-historic-years-of-mapping-mars/\" target=\"_self\">NASA's Odyssey Orbiter Marks 20 Historic Years of Mapping Mars </a></div>, <div class=\"content_title\"><a href=\"/news/8910/nasa-invites-public-to-take-flight-with-ingenuity-mars-helicopter/\" target=\"_self\">NASA Invites Public to Take Flight With Ingenuity Mars Helicopter </a></div>, <div class=\"content_title\"><a href=\"/news/8909/nasas-first-weather-report-from-jezero-crater-on-mars/\" target=\"_self\">NASA's First Weather Report From Jezero Crater on Mars</a></div>, <div class=\"content_title\"><a href=\"/news/8907/nasas-curiosity-team-names-martian-hill-that-serves-as-mission-gateway/\" target=\"_self\">NASA's Curiosity Team Names Martian Hill That Serves as Mission ‘Gateway'</a></div>, <div class=\"content_title\"><a href=\"/news/8906/nasas-mars-helicopter-survives-first-cold-martian-night-on-its-own/\" target=\"_self\">NASA's Mars Helicopter Survives First Cold Martian Night on Its Own</a></div>, <div class=\"content_title\"><a href=\"/news/8904/nasas-insight-detects-two-sizable-quakes-on-mars/\" target=\"_self\">NASA's InSight Detects Two Sizable Quakes on Mars</a></div>, <div class=\"content_title\"><a href=\"/news/8903/sensors-collect-crucial-data-on-mars-landings-with-arrival-of-perseverance/\" target=\"_self\">Sensors Collect Crucial Data on Mars Landings With Arrival of Perseverance </a></div>, <div class=\"content_title\"><a href=\"/news/8901/nasas-curiosity-mars-rover-takes-selfie-with-mont-mercou/\" target=\"_self\">NASA's Curiosity Mars Rover Takes Selfie With 'Mont Mercou'</a></div>, <div class=\"content_title\"><a href=\"/news/8896/nasa-ingenuity-mars-helicopter-prepares-for-first-flight/\" target=\"_self\">NASA Ingenuity Mars Helicopter Prepares for First Flight</a></div>, <div class=\"content_title\"><a href=\"/news/8892/another-first-perseverance-captures-the-sounds-of-driving-on-mars/\" target=\"_self\">Another First: Perseverance Captures the Sounds of Driving on Mars</a></div>, <div class=\"content_title\"><a href=\"/news/8891/nasa-to-host-briefing-to-preview-first-mars-helicopter-flights/\" target=\"_self\">NASA to Host Briefing to Preview First Mars Helicopter Flights</a></div>, <div class=\"content_title\"><a href=\"/news/8888/new-study-challenges-long-held-theory-of-fate-of-mars-water/\" target=\"_self\">New Study Challenges Long-Held Theory of Fate of Mars' Water</a></div>, <div class=\"content_title\"><a href=\"/news/8886/nasas-perseverance-mars-rover-mission-honors-navajo-language/\" target=\"_self\">NASA's Perseverance Mars Rover Mission Honors Navajo Language</a></div>, <div class=\"content_title\"><a href=\"/news/8885/perseverance-rovers-supercam-science-instrument-delivers-first-results/\" target=\"_self\">Perseverance Rover's SuperCam Science Instrument Delivers First Results</a></div>, <div class=\"content_title\">\n<a href=\"/news/8919/nasa-to-attempt-first-controlled-flight-on-mars-as-soon-as-monday/\">\nNASA to Attempt First Controlled Flight on Mars As Soon As Monday\n</a>\n</div>, <div class=\"content_title\">\n<a href=\"/news/8896/nasa-ingenuity-mars-helicopter-prepares-for-first-flight/\">\nNASA Ingenuity Mars Helicopter Prepares for First Flight\n</a>\n</div>, <div class=\"content_title\">\n<a href=\"/news/8972/study-looks-more-closely-at-mars-underground-water-signals/\">\nStudy Looks More Closely at Mars' Underground Water Signals\n</a>\n</div>, <div class=\"content_title\">\n<a href=\"/news/8963/nasas-perseverance-rover-begins-its-first-science-campaign-on-mars/\">\nNASA's Perseverance Rover Begins Its First Science Campaign on Mars\n</a>\n</div>, <div class=\"content_title\">\n<a href=\"/news/8942/nasas-ingenuity-mars-helicopter-completes-first-one-way-trip/\">\nNASA's Ingenuity Mars Helicopter Completes First One-Way Trip  \n</a>\n</div>, <div class=\"content_title\">\n<a href=\"/news/8936/nasas-ingenuity-helicopter-to-begin-new-demonstration-phase/\">\nNASA's Ingenuity Helicopter to Begin New Demonstration Phase\n</a>\n</div>, <div class=\"content_title\">\n<a href=\"/news/8919/nasa-to-attempt-first-controlled-flight-on-mars-as-soon-as-monday/\">\nNASA to Attempt First Controlled Flight on Mars As Soon As Monday\n</a>\n</div>, <div class=\"content_title\">\n<a href=\"/news/8896/nasa-ingenuity-mars-helicopter-prepares-for-first-flight/\">\nNASA Ingenuity Mars Helicopter Prepares for First Flight\n</a>\n</div>, <div class=\"content_title\">\n<a href=\"/news/8972/study-looks-more-closely-at-mars-underground-water-signals/\">\nStudy Looks More Closely at Mars' Underground Water Signals\n</a>\n</div>, <div class=\"content_title\">\n<a href=\"/news/8963/nasas-perseverance-rover-begins-its-first-science-campaign-on-mars/\">\nNASA's Perseverance Rover Begins Its First Science Campaign on Mars\n</a>\n</div>]\n[<div class=\"article_teaser_body\">The agency’s newest rover is trekking across the Martian landscape using a newly enhanced auto-navigation system.</div>, <div class=\"article_teaser_body\">Why do some science instruments detect the gas on the Red Planet while others don’t?</div>, <div class=\"article_teaser_body\">The historic image of the rover beside the Mars Helicopter proved to be one of the most complex rover selfies ever taken. Video, with bonus audio, sheds light on the process. </div>, <div class=\"article_teaser_body\">A new paper finds more radar signals suggesting the presence of subsurface ‘lakes,’ but many are in areas too cold for water to remain liquid.</div>, <div class=\"article_teaser_body\">A Perseverance rover scientist’s favorite shot from the young Mars mission provides a new angle on an old and intriguing surface feature.</div>, <div class=\"article_teaser_body\">The mission picked up the 2021 John L. “Jack” Swigert, Jr., Award for Space Exploration for its history-making achievements.</div>, <div class=\"article_teaser_body\">The six-wheeled scientist is heading south to explore Jezero Crater’s lakebed in search of signs of ancient microbial life.</div>, <div class=\"article_teaser_body\">The spacecraft successfully cleared some dust off its solar panels, helping to raise its energy and delay when it will need to switch off its science instruments.</div>, <div class=\"article_teaser_body\">The science team is studying the clouds, which arrived earlier and formed higher than expected, to learn more about the Red Planet. </div>, <div class=\"article_teaser_body\">Productivity pundits know lots of tricks to make the most of your day, so you can schedule enough time for important tasks while guarding against overload.</div>, <div class=\"article_teaser_body\">A NASA team has found that organic, or carbon-containing, salts are likely present on Mars, with implications for the Red Planet's past habitability.</div>, <div class=\"article_teaser_body\">A new video of the helicopter’s third flight gives viewers the sensation of standing on the Red Planet and seeing the action firsthand.</div>, <div class=\"article_teaser_body\">NASA’s newest Mars rover is beginning to study the floor of an ancient crater that once held a lake.</div>, <div class=\"article_teaser_body\">The Red Planet rotorcraft headed south in support of furthering research into the potential use of aerial scouts on Mars in the future.</div>, <div class=\"article_teaser_body\">Sounds of the Mars Helicopter’s whirring rotors add another new dimension to the historic project.</div>, <div class=\"article_teaser_body\">The Red Planet rotorcraft will shift focus from proving flight is possible on Mars to demonstrating flight operations that future aerial craft could utilize.</div>, <div class=\"article_teaser_body\">With three successful flights in the logbook, Ingenuity has demonstrated it is ready for more.\n\n</div>, <div class=\"article_teaser_body\">With three successful flights in the logbook, Ingenuity has demonstrated it is ready for more.</div>, <div class=\"article_teaser_body\">The craft’s April 25 flight was conducted at speeds and distances beyond what had ever been previously demonstrated, even in testing on Earth.</div>, <div class=\"article_teaser_body\">The small rotorcraft’s horizons were expanded on its second flight. </div>, <div class=\"article_teaser_body\">The milestone, which the MOXIE instrument achieved by converting carbon dioxide into oxygen, points the way to future human exploration of the Red Planet. </div>, <div class=\"article_teaser_body\">The small rotorcraft made history, hovering above Jezero Crater, demonstrating that powered, controlled flight on another planet is possible.</div>, <div class=\"article_teaser_body\">A livestream will begin at 3:15 a.m. PDT that morning as the helicopter team prepares to receive the data downlink at NASA’s Jet Propulsion Laboratory.</div>, <div class=\"article_teaser_body\">The small rotorcraft’s “Wright brothers moment” is two Mars days away.</div>, <div class=\"article_teaser_body\">Do you like solving problems, working with other people, and making a difference? Consider a career in engineering!</div>, <div class=\"article_teaser_body\">NASA’s newest Mars rover used a camera on the end of its robotic arm to snap this shot of itself with the Ingenuity helicopter nearby.</div>, <div class=\"article_teaser_body\">For two decades, the longest-lived spacecraft at the Red Planet has helped locate water ice, assess landing sites, and study the planet’s mysterious moons.\n</div>, <div class=\"article_teaser_body\">The helicopter is scheduled to lift off close to the end of the day on April 11.</div>, <div class=\"article_teaser_body\">Perseverance’s MEDA will help us understand how to prepare astronauts for a future on the Red Planet.</div>, <div class=\"article_teaser_body\">The name honors recently deceased mission scientist Rafael Navarro-González, who helped lead the team that identified ancient organic compounds on Mars</div>, <div class=\"article_teaser_body\">NASA’s Ingenuity helicopter can be seen on Mars as viewed by the Perseverance rover’s rear Hazard Camera on April 4, 2021, the 44th Martian day, or sol of the mission.</div>, <div class=\"article_teaser_body\">The magnitude 3.3 and 3.1 temblors originated in a region called Cerberus Fossae, further supporting the idea that this location is seismically active.</div>, <div class=\"article_teaser_body\">MEDLI2 was one of the crucial technologies onboard the rover’s protective aeroshell that helped document the entry, descent, and landing of the spacecraft. </div>, <div class=\"article_teaser_body\">The rover also snapped a pair of panoramas to create a 3D view of the stark cliff face featured in the selfie.</div>, <div class=\"article_teaser_body\">Now uncocooned from its protective carbon-fiber shield, the helicopter is being readied for its next steps.  </div>, <div class=\"article_teaser_body\">NASA’s newest rover recorded audio of itself crunching over the surface of the Red Planet, adding a whole new dimension to Mars exploration.</div>, <div class=\"article_teaser_body\">Members of the projects will lay out the steps necessary before the helicopter attempts its historic test flights. </div>, <div class=\"article_teaser_body\">The new science results indicate that a large quantity of the Red Planet’s water is trapped in its crust rather than having escaped into space.</div>, <div class=\"article_teaser_body\">Working with the Navajo Nation, the rover team has named features on Mars with words from the Navajo language.</div>, <div class=\"article_teaser_body\">Data from the powerful science tool includes sounds of its laser zapping a rock in order to test what it’s made of.</div>]\nThe agency’s newest rover is trekking across the Martian landscape using a newly enhanced auto-navigation system.\nWhy do some science instruments detect the gas on the Red Planet while others don’t?\nThe historic image of the rover beside the Mars Helicopter proved to be one of the most complex rover selfies ever taken. Video, with bonus audio, sheds light on the process. \nA new paper finds more radar signals suggesting the presence of subsurface ‘lakes,’ but many are in areas too cold for water to remain liquid.\nA Perseverance rover scientist’s favorite shot from the young Mars mission provides a new angle on an old and intriguing surface feature.\nThe mission picked up the 2021 John L. “Jack” Swigert, Jr., Award for Space Exploration for its history-making achievements.\nThe six-wheeled scientist is heading south to explore Jezero Crater’s lakebed in search of signs of ancient microbial life.\nThe spacecraft successfully cleared some dust off its solar panels, helping to raise its energy and delay when it will need to switch off its science instruments.\nThe science team is studying the clouds, which arrived earlier and formed higher than expected, to learn more about the Red Planet. \nProductivity pundits know lots of tricks to make the most of your day, so you can schedule enough time for important tasks while guarding against overload.\nA NASA team has found that organic, or carbon-containing, salts are likely present on Mars, with implications for the Red Planet's past habitability.\nA new video of the helicopter’s third flight gives viewers the sensation of standing on the Red Planet and seeing the action firsthand.\nNASA’s newest Mars rover is beginning to study the floor of an ancient crater that once held a lake.\nThe Red Planet rotorcraft headed south in support of furthering research into the potential use of aerial scouts on Mars in the future.\nSounds of the Mars Helicopter’s whirring rotors add another new dimension to the historic project.\nThe Red Planet rotorcraft will shift focus from proving flight is possible on Mars to demonstrating flight operations that future aerial craft could utilize.\nWith three successful flights in the logbook, Ingenuity has demonstrated it is ready for more.\n\n\nWith three successful flights in the logbook, Ingenuity has demonstrated it is ready for more.\nThe craft’s April 25 flight was conducted at speeds and distances beyond what had ever been previously demonstrated, even in testing on Earth.\nThe small rotorcraft’s horizons were expanded on its second flight. \nThe milestone, which the MOXIE instrument achieved by converting carbon dioxide into oxygen, points the way to future human exploration of the Red Planet. \nThe small rotorcraft made history, hovering above Jezero Crater, demonstrating that powered, controlled flight on another planet is possible.\nA livestream will begin at 3:15 a.m. PDT that morning as the helicopter team prepares to receive the data downlink at NASA’s Jet Propulsion Laboratory.\nThe small rotorcraft’s “Wright brothers moment” is two Mars days away.\nDo you like solving problems, working with other people, and making a difference? Consider a career in engineering!\nNASA’s newest Mars rover used a camera on the end of its robotic arm to snap this shot of itself with the Ingenuity helicopter nearby.\nFor two decades, the longest-lived spacecraft at the Red Planet has helped locate water ice, assess landing sites, and study the planet’s mysterious moons.\n\nThe helicopter is scheduled to lift off close to the end of the day on April 11.\nPerseverance’s MEDA will help us understand how to prepare astronauts for a future on the Red Planet.\nThe name honors recently deceased mission scientist Rafael Navarro-González, who helped lead the team that identified ancient organic compounds on Mars\nNASA’s Ingenuity helicopter can be seen on Mars as viewed by the Perseverance rover’s rear Hazard Camera on April 4, 2021, the 44th Martian day, or sol of the mission.\nThe magnitude 3.3 and 3.1 temblors originated in a region called Cerberus Fossae, further supporting the idea that this location is seismically active.\nMEDLI2 was one of the crucial technologies onboard the rover’s protective aeroshell that helped document the entry, descent, and landing of the spacecraft. \nThe rover also snapped a pair of panoramas to create a 3D view of the stark cliff face featured in the selfie.\nNow uncocooned from its protective carbon-fiber shield, the helicopter is being readied for its next steps.  \nNASA’s newest rover recorded audio of itself crunching over the surface of the Red Planet, adding a whole new dimension to Mars exploration.\nMembers of the projects will lay out the steps necessary before the helicopter attempts its historic test flights. \nThe new science results indicate that a large quantity of the Red Planet’s water is trapped in its crust rather than having escaped into space.\nWorking with the Navajo Nation, the rover team has named features on Mars with words from the Navajo language.\nData from the powerful science tool includes sounds of its laser zapping a rock in order to test what it’s made of.\n"
     ]
    }
   ],
   "source": [
    "scrape()"
   ]
  },
  {
   "cell_type": "code",
   "execution_count": 11,
   "metadata": {},
   "outputs": [],
   "source": [
    "url='https://mars.nasa.gov/news/?page=0&per_page=40&order=publish_date+desc%2Ccreated_at+desc&search=&category=19%2C165%2C184%2C204&blank_scope=Latest'"
   ]
  },
  {
   "cell_type": "code",
   "execution_count": 12,
   "metadata": {},
   "outputs": [],
   "source": [
    "featured_image_url = 'https://data-class-jpl-space.s3.amazonaws.com/JPL_Space/image/featured/mars3.jpg'"
   ]
  },
  {
   "cell_type": "code",
   "execution_count": 13,
   "metadata": {},
   "outputs": [
    {
     "output_type": "execute_result",
     "data": {
      "text/plain": [
       "[                      0                              1\n",
       " 0  Equatorial Diameter:                       6,792 km\n",
       " 1       Polar Diameter:                       6,752 km\n",
       " 2                 Mass:  6.39 × 10^23 kg (0.11 Earths)\n",
       " 3                Moons:            2 (Phobos & Deimos)\n",
       " 4       Orbit Distance:       227,943,824 km (1.38 AU)\n",
       " 5         Orbit Period:           687 days (1.9 years)\n",
       " 6  Surface Temperature:                   -87 to -5 °C\n",
       " 7         First Record:              2nd millennium BC\n",
       " 8          Recorded By:           Egyptian astronomers,\n",
       "   Mars - Earth Comparison             Mars            Earth\n",
       " 0               Diameter:         6,779 km        12,742 km\n",
       " 1                   Mass:  6.39 × 10^23 kg  5.97 × 10^24 kg\n",
       " 2                  Moons:                2                1\n",
       " 3      Distance from Sun:   227,943,824 km   149,598,262 km\n",
       " 4         Length of Year:   687 Earth days      365.24 days\n",
       " 5            Temperature:     -87 to -5 °C      -88 to 58°C,\n",
       "                       0                              1\n",
       " 0  Equatorial Diameter:                       6,792 km\n",
       " 1       Polar Diameter:                       6,752 km\n",
       " 2                 Mass:  6.39 × 10^23 kg (0.11 Earths)\n",
       " 3                Moons:            2 (Phobos & Deimos)\n",
       " 4       Orbit Distance:       227,943,824 km (1.38 AU)\n",
       " 5         Orbit Period:           687 days (1.9 years)\n",
       " 6  Surface Temperature:                   -87 to -5 °C\n",
       " 7         First Record:              2nd millennium BC\n",
       " 8          Recorded By:           Egyptian astronomers]"
      ]
     },
     "metadata": {},
     "execution_count": 13
    }
   ],
   "source": [
    "mars_facts_webpage = 'https://space-facts.com/mars/'\n",
    "table = pd.read_html(mars_facts_webpage)\n",
    "table"
   ]
  },
  {
   "cell_type": "code",
   "execution_count": 14,
   "metadata": {},
   "outputs": [
    {
     "output_type": "execute_result",
     "data": {
      "text/plain": [
       "list"
      ]
     },
     "metadata": {},
     "execution_count": 14
    }
   ],
   "source": [
    "type(table)"
   ]
  },
  {
   "cell_type": "code",
   "execution_count": 15,
   "metadata": {},
   "outputs": [
    {
     "output_type": "execute_result",
     "data": {
      "text/plain": [
       "                      0                              1\n",
       "0  Equatorial Diameter:                       6,792 km\n",
       "1       Polar Diameter:                       6,752 km\n",
       "2                 Mass:  6.39 × 10^23 kg (0.11 Earths)\n",
       "3                Moons:            2 (Phobos & Deimos)\n",
       "4       Orbit Distance:       227,943,824 km (1.38 AU)"
      ],
      "text/html": "<div>\n<style scoped>\n    .dataframe tbody tr th:only-of-type {\n        vertical-align: middle;\n    }\n\n    .dataframe tbody tr th {\n        vertical-align: top;\n    }\n\n    .dataframe thead th {\n        text-align: right;\n    }\n</style>\n<table border=\"1\" class=\"dataframe\">\n  <thead>\n    <tr style=\"text-align: right;\">\n      <th></th>\n      <th>0</th>\n      <th>1</th>\n    </tr>\n  </thead>\n  <tbody>\n    <tr>\n      <th>0</th>\n      <td>Equatorial Diameter:</td>\n      <td>6,792 km</td>\n    </tr>\n    <tr>\n      <th>1</th>\n      <td>Polar Diameter:</td>\n      <td>6,752 km</td>\n    </tr>\n    <tr>\n      <th>2</th>\n      <td>Mass:</td>\n      <td>6.39 × 10^23 kg (0.11 Earths)</td>\n    </tr>\n    <tr>\n      <th>3</th>\n      <td>Moons:</td>\n      <td>2 (Phobos &amp; Deimos)</td>\n    </tr>\n    <tr>\n      <th>4</th>\n      <td>Orbit Distance:</td>\n      <td>227,943,824 km (1.38 AU)</td>\n    </tr>\n  </tbody>\n</table>\n</div>"
     },
     "metadata": {},
     "execution_count": 15
    }
   ],
   "source": [
    "df =table[0]\n",
    "df.head()"
   ]
  },
  {
   "cell_type": "code",
   "execution_count": 16,
   "metadata": {},
   "outputs": [
    {
     "output_type": "execute_result",
     "data": {
      "text/plain": [
       "'<table border=\"1\" class=\"dataframe\">\\n  <thead>\\n    <tr style=\"text-align: right;\">\\n      <th></th>\\n      <th>0</th>\\n      <th>1</th>\\n    </tr>\\n  </thead>\\n  <tbody>\\n    <tr>\\n      <th>0</th>\\n      <td>Equatorial Diameter:</td>\\n      <td>6,792 km</td>\\n    </tr>\\n    <tr>\\n      <th>1</th>\\n      <td>Polar Diameter:</td>\\n      <td>6,752 km</td>\\n    </tr>\\n    <tr>\\n      <th>2</th>\\n      <td>Mass:</td>\\n      <td>6.39 × 10^23 kg (0.11 Earths)</td>\\n    </tr>\\n    <tr>\\n      <th>3</th>\\n      <td>Moons:</td>\\n      <td>2 (Phobos &amp; Deimos)</td>\\n    </tr>\\n    <tr>\\n      <th>4</th>\\n      <td>Orbit Distance:</td>\\n      <td>227,943,824 km (1.38 AU)</td>\\n    </tr>\\n    <tr>\\n      <th>5</th>\\n      <td>Orbit Period:</td>\\n      <td>687 days (1.9 years)</td>\\n    </tr>\\n    <tr>\\n      <th>6</th>\\n      <td>Surface Temperature:</td>\\n      <td>-87 to -5 °C</td>\\n    </tr>\\n    <tr>\\n      <th>7</th>\\n      <td>First Record:</td>\\n      <td>2nd millennium BC</td>\\n    </tr>\\n    <tr>\\n      <th>8</th>\\n      <td>Recorded By:</td>\\n      <td>Egyptian astronomers</td>\\n    </tr>\\n  </tbody>\\n</table>'"
      ]
     },
     "metadata": {},
     "execution_count": 16
    }
   ],
   "source": [
    "html_table = df.to_html()\n",
    "html_table"
   ]
  },
  {
   "cell_type": "code",
   "execution_count": 17,
   "metadata": {},
   "outputs": [
    {
     "output_type": "execute_result",
     "data": {
      "text/plain": [
       "'<table border=\"1\" class=\"dataframe\">  <thead>    <tr style=\"text-align: right;\">      <th></th>      <th>0</th>      <th>1</th>    </tr>  </thead>  <tbody>    <tr>      <th>0</th>      <td>Equatorial Diameter:</td>      <td>6,792 km</td>    </tr>    <tr>      <th>1</th>      <td>Polar Diameter:</td>      <td>6,752 km</td>    </tr>    <tr>      <th>2</th>      <td>Mass:</td>      <td>6.39 × 10^23 kg (0.11 Earths)</td>    </tr>    <tr>      <th>3</th>      <td>Moons:</td>      <td>2 (Phobos &amp; Deimos)</td>    </tr>    <tr>      <th>4</th>      <td>Orbit Distance:</td>      <td>227,943,824 km (1.38 AU)</td>    </tr>    <tr>      <th>5</th>      <td>Orbit Period:</td>      <td>687 days (1.9 years)</td>    </tr>    <tr>      <th>6</th>      <td>Surface Temperature:</td>      <td>-87 to -5 °C</td>    </tr>    <tr>      <th>7</th>      <td>First Record:</td>      <td>2nd millennium BC</td>    </tr>    <tr>      <th>8</th>      <td>Recorded By:</td>      <td>Egyptian astronomers</td>    </tr>  </tbody></table>'"
      ]
     },
     "metadata": {},
     "execution_count": 17
    }
   ],
   "source": [
    "html_table.replace('\\n','')"
   ]
  },
  {
   "cell_type": "code",
   "execution_count": 18,
   "metadata": {},
   "outputs": [],
   "source": [
    "hemisphere_image_urls = [\n",
    "    {\"title\": \"Cerberus Hemisphere\", \"img_url\": \"https://astropedia.astrogeology.usgs.gov/download/Mars/Viking/cerberus_enhanced.tif\"},\n",
    "    {\"title\": \"Schiaparelli Hemisphere\", \"img_url\": \"https://astropedia.astrogeology.usgs.gov/download/Mars/Viking/schiaparelli_enhanced.tif\"},\n",
    "    {\"title\": \"Syrtis Major Hemisphere\", \"img_url\": \"https://astropedia.astrogeology.usgs.gov/download/Mars/Viking/syrtis_major_enhanced.tif\"},\n",
    "    {\"title\": \"Valles Marineris Hemisphere\", \"img_url\": \"https://astropedia.astrogeology.usgs.gov/download/Mars/Viking/valles_marineris_enhanced.tif\"},   \n",
    "]\n"
   ]
  },
  {
   "cell_type": "code",
   "execution_count": 19,
   "metadata": {},
   "outputs": [],
   "source": [
    "conn = 'mongodb://localhost:27017'\n",
    "client = pymongo.MongoClient(conn)"
   ]
  },
  {
   "cell_type": "code",
   "execution_count": null,
   "metadata": {},
   "outputs": [],
   "source": []
  }
 ],
 "metadata": {
  "kernelspec": {
   "name": "python3",
   "display_name": "Python 3.8.5 64-bit ('base': conda)"
  },
  "language_info": {
   "codemirror_mode": {
    "name": "ipython",
    "version": 3
   },
   "file_extension": ".py",
   "mimetype": "text/x-python",
   "name": "python",
   "nbconvert_exporter": "python",
   "pygments_lexer": "ipython3",
   "version": "3.8.5"
  },
  "interpreter": {
   "hash": "7e619f16047683c59ed8e7b98cbb1ffe918f16ea1397fa52229cf3de81dc0641"
  }
 },
 "nbformat": 4,
 "nbformat_minor": 4
}