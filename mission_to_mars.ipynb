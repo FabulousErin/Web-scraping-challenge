{
 "cells": [
  {
   "cell_type": "code",
   "execution_count": 1,
   "metadata": {},
   "outputs": [],
   "source": [
    "import pandas as pd\n",
    "from bs4 import BeautifulSoup\n",
    "import requests\n",
    "from splinter import Browser\n",
    "import pymongo"
   ]
  },
  {
   "cell_type": "code",
   "execution_count": 2,
   "metadata": {},
   "outputs": [],
   "source": [
    "def init_browser():\n",
    "    executable_path = {\"executable_path\": \"C:\\\\Users\\\\erinn\\\\Documents\\\\WashU\\\\chromedriver.exe\"}\n",
    "    return Browser(\"chrome\", **executable_path, headless=False)\n"
   ]
  },
  {
   "cell_type": "code",
   "execution_count": 37,
   "metadata": {},
   "outputs": [],
   "source": [
    "def scrape():\n",
    "    browser = init_browser()\n",
    "    listings = []\n",
    "    url = \"https://mars.nasa.gov/news/\"\n",
    "    browser.visit(url)\n",
    "\n",
    "    html = browser.html\n",
    "    soup = BeautifulSoup(html, \"html.parser\")\n",
    "    news_title = soup.find_all(\"div\", {\"class\": \"content_title\"})\n",
    "    print(news_title)\n",
    "    \n",
    "    news_p = soup.find_all(\"div\", {\"class\": \"article_teaser_body\"})\n",
    "    print(news_p)\n",
    "    for news in news_p:\n",
    "        print(news.text)\n",
    "        \n",
    "     "
   ]
  },
  {
   "cell_type": "code",
   "execution_count": 13,
   "metadata": {},
   "outputs": [],
   "source": [
    "def scrape():\n",
    "    browser = init_browser()\n",
    "    listings = []\n",
    "    url = \"https://mars.nasa.gov/news/\"\n",
    "    browser.visit(url)\n",
    "\n",
    "    html = browser.html\n",
    "    soup = BeautifulSoup(html, \"html.parser\")\n",
    "    news_title = soup.find_all(\"div\", {\"class\": \"content_title\"})\n",
    "    print(news_title[1].get_text())\n",
    "\n",
    "    news_title.pop(0)\n",
    "\n",
    "    clean_titles = []\n",
    "\n",
    "    for title in news_title:\n",
    "        title_dictionary = {\n",
    "            \"title\": title.get_text()\n",
    "        }\n",
    "        clean_titles.append(title_dictionary)\n",
    "\n",
    "    print(clean_titles)\n",
    "    \n",
    "    #news_p = soup.find_all(\"div\", {\"class\": \"article_teaser_body\"})\n",
    "    #print(news_p)\n",
    "    #for news in news_p:\n",
    "     #   print(news.text)"
   ]
  },
  {
   "cell_type": "code",
   "execution_count": 14,
   "metadata": {
    "tags": []
   },
   "outputs": [
    {
     "output_type": "stream",
     "name": "stdout",
     "text": [
      "NASA to Brief Early Science From Perseverance Mars Rover\n['NASA to Brief Early Science From Perseverance Mars Rover', \"NASA's Mars Helicopter Reveals Intriguing Terrain for Rover Team \", \"NASA's Curiosity Rover Finds Patches of Rock Record Erased, Revealing Clues\", \"Meet the Open-Source Software Powering NASA's Ingenuity Mars Helicopter\", \"NASA's Self-Driving Perseverance Mars Rover 'Takes the Wheel'\", \"First You See It, Then You Don't: Scientists Closer to Explaining Mars Methane Mystery\", \"Watch (and Hear) How NASA's Perseverance Rover Took Its First Selfie\", \"Study Looks More Closely at Mars' Underground Water Signals\", \"My Favorite Martian Image: Jezero Crater's 'Delta Scarp'\", \"NASA's Ingenuity Mission Honored by the Space Foundation\", \"NASA's Perseverance Rover Begins Its First Science Campaign on Mars\", \"NASA's InSight Mars Lander Gets a Power Boost\", \"NASA's Curiosity Rover Captures Shining Clouds on Mars\", 'Life Goals: NASA Software Unlocks Martian Rover Productivity', 'Salts Could Be Important Piece of Martian Organic Puzzle', \"Seeing NASA's Ingenuity Mars Helicopter Fly in 3D\", \"Perseverance's Robotic Arm Starts Conducting Science\", \"NASA's Ingenuity Mars Helicopter Completes First One-Way Trip  \", \"NASA's Perseverance Captures Video, Audio of Fourth Ingenuity Flight\", \"NASA's Ingenuity Helicopter to Begin New Demonstration Phase\", 'NASA Sets Briefing to Discuss Ingenuity Mars Helicopter Next Steps', 'With Goals Met, NASA to Push Envelope With Ingenuity Mars Helicopter', \"NASA's Ingenuity Mars Helicopter Flies Faster, Farther on Third Flight\", \"NASA's Ingenuity Mars Helicopter Logs Second Successful Flight\", \"NASA's Perseverance Mars Rover Extracts First Oxygen From Red Planet\", \"NASA's Ingenuity Mars Helicopter Succeeds in Historic First Flight\", 'NASA to Attempt First Controlled Flight on Mars As Soon As Monday', \"NASA's Mars Helicopter to Make First Flight Attempt\", 'Webinars--Taking Flight: How Girls Can Grow up to Be Engineers ', \"Say Cheese on Mars: Perseverance's Selfie With Ingenuity\", \"NASA's Odyssey Orbiter Marks 20 Historic Years of Mapping Mars \", 'NASA Invites Public to Take Flight With Ingenuity Mars Helicopter ', \"NASA's First Weather Report From Jezero Crater on Mars\", \"NASA's Curiosity Team Names Martian Hill That Serves as Mission ‘Gateway'\", \"NASA's Mars Helicopter Survives First Cold Martian Night on Its Own\", \"NASA's InSight Detects Two Sizable Quakes on Mars\", 'Sensors Collect Crucial Data on Mars Landings With Arrival of Perseverance ', \"NASA's Curiosity Mars Rover Takes Selfie With 'Mont Mercou'\", 'NASA Ingenuity Mars Helicopter Prepares for First Flight', 'Another First: Perseverance Captures the Sounds of Driving on Mars', '\\n\\nNASA to Attempt First Controlled Flight on Mars As Soon As Monday\\n\\n', '\\n\\nNASA Ingenuity Mars Helicopter Prepares for First Flight\\n\\n', \"\\n\\nStudy Looks More Closely at Mars' Underground Water Signals\\n\\n\", \"\\n\\nNASA's Perseverance Rover Begins Its First Science Campaign on Mars\\n\\n\", \"\\n\\nNASA's Ingenuity Mars Helicopter Completes First One-Way Trip  \\n\\n\", \"\\n\\nNASA's Ingenuity Helicopter to Begin New Demonstration Phase\\n\\n\", '\\n\\nNASA to Attempt First Controlled Flight on Mars As Soon As Monday\\n\\n', '\\n\\nNASA Ingenuity Mars Helicopter Prepares for First Flight\\n\\n', \"\\n\\nStudy Looks More Closely at Mars' Underground Water Signals\\n\\n\", \"\\n\\nNASA's Perseverance Rover Begins Its First Science Campaign on Mars\\n\\n\"]\n"
     ]
    }
   ],
   "source": [
    "scrape()"
   ]
  },
  {
   "cell_type": "code",
   "execution_count": 6,
   "metadata": {},
   "outputs": [],
   "source": [
    "url='https://mars.nasa.gov/news/?page=0&per_page=40&order=publish_date+desc%2Ccreated_at+desc&search=&category=19%2C165%2C184%2C204&blank_scope=Latest'"
   ]
  },
  {
   "cell_type": "code",
   "execution_count": 16,
   "metadata": {},
   "outputs": [
    {
     "output_type": "stream",
     "name": "stdout",
     "text": [
      "https://data-class-jpl-space.s3.amazonaws.com/JPL_Space/image/featured/mars2.jpg\n"
     ]
    }
   ],
   "source": [
    "browser = init_browser()\n",
    "url = \"https://data-class-jpl-space.s3.amazonaws.com/JPL_Space/index.html\"\n",
    "browser.visit(url)\n",
    "\n",
    "html = browser.html\n",
    "soup = BeautifulSoup(html, \"html.parser\")\n",
    "featured_image_url = soup.find_all(\"img\", {\"class\": \"headerimage\"})[0].get('src')\n",
    "\n",
    "final_url = \"https://data-class-jpl-space.s3.amazonaws.com/JPL_Space/\" + featured_image_url\n",
    "print(final_url)"
   ]
  },
  {
   "cell_type": "code",
   "execution_count": 13,
   "metadata": {},
   "outputs": [
    {
     "output_type": "execute_result",
     "data": {
      "text/plain": [
       "[                      0                              1\n",
       " 0  Equatorial Diameter:                       6,792 km\n",
       " 1       Polar Diameter:                       6,752 km\n",
       " 2                 Mass:  6.39 × 10^23 kg (0.11 Earths)\n",
       " 3                Moons:            2 (Phobos & Deimos)\n",
       " 4       Orbit Distance:       227,943,824 km (1.38 AU)\n",
       " 5         Orbit Period:           687 days (1.9 years)\n",
       " 6  Surface Temperature:                   -87 to -5 °C\n",
       " 7         First Record:              2nd millennium BC\n",
       " 8          Recorded By:           Egyptian astronomers,\n",
       "   Mars - Earth Comparison             Mars            Earth\n",
       " 0               Diameter:         6,779 km        12,742 km\n",
       " 1                   Mass:  6.39 × 10^23 kg  5.97 × 10^24 kg\n",
       " 2                  Moons:                2                1\n",
       " 3      Distance from Sun:   227,943,824 km   149,598,262 km\n",
       " 4         Length of Year:   687 Earth days      365.24 days\n",
       " 5            Temperature:     -87 to -5 °C      -88 to 58°C,\n",
       "                       0                              1\n",
       " 0  Equatorial Diameter:                       6,792 km\n",
       " 1       Polar Diameter:                       6,752 km\n",
       " 2                 Mass:  6.39 × 10^23 kg (0.11 Earths)\n",
       " 3                Moons:            2 (Phobos & Deimos)\n",
       " 4       Orbit Distance:       227,943,824 km (1.38 AU)\n",
       " 5         Orbit Period:           687 days (1.9 years)\n",
       " 6  Surface Temperature:                   -87 to -5 °C\n",
       " 7         First Record:              2nd millennium BC\n",
       " 8          Recorded By:           Egyptian astronomers]"
      ]
     },
     "metadata": {},
     "execution_count": 13
    }
   ],
   "source": [
    "\n",
    "table = pd.read_html(mars_facts_webpage)\n",
    "table"
   ]
  },
  {
   "cell_type": "code",
   "execution_count": 14,
   "metadata": {},
   "outputs": [
    {
     "output_type": "execute_result",
     "data": {
      "text/plain": [
       "list"
      ]
     },
     "metadata": {},
     "execution_count": 14
    }
   ],
   "source": [
    "type(table)"
   ]
  },
  {
   "cell_type": "code",
   "execution_count": 15,
   "metadata": {},
   "outputs": [
    {
     "output_type": "execute_result",
     "data": {
      "text/plain": [
       "                      0                              1\n",
       "0  Equatorial Diameter:                       6,792 km\n",
       "1       Polar Diameter:                       6,752 km\n",
       "2                 Mass:  6.39 × 10^23 kg (0.11 Earths)\n",
       "3                Moons:            2 (Phobos & Deimos)\n",
       "4       Orbit Distance:       227,943,824 km (1.38 AU)"
      ],
      "text/html": "<div>\n<style scoped>\n    .dataframe tbody tr th:only-of-type {\n        vertical-align: middle;\n    }\n\n    .dataframe tbody tr th {\n        vertical-align: top;\n    }\n\n    .dataframe thead th {\n        text-align: right;\n    }\n</style>\n<table border=\"1\" class=\"dataframe\">\n  <thead>\n    <tr style=\"text-align: right;\">\n      <th></th>\n      <th>0</th>\n      <th>1</th>\n    </tr>\n  </thead>\n  <tbody>\n    <tr>\n      <th>0</th>\n      <td>Equatorial Diameter:</td>\n      <td>6,792 km</td>\n    </tr>\n    <tr>\n      <th>1</th>\n      <td>Polar Diameter:</td>\n      <td>6,752 km</td>\n    </tr>\n    <tr>\n      <th>2</th>\n      <td>Mass:</td>\n      <td>6.39 × 10^23 kg (0.11 Earths)</td>\n    </tr>\n    <tr>\n      <th>3</th>\n      <td>Moons:</td>\n      <td>2 (Phobos &amp; Deimos)</td>\n    </tr>\n    <tr>\n      <th>4</th>\n      <td>Orbit Distance:</td>\n      <td>227,943,824 km (1.38 AU)</td>\n    </tr>\n  </tbody>\n</table>\n</div>"
     },
     "metadata": {},
     "execution_count": 15
    }
   ],
   "source": [
    "df =table[0]\n",
    "df.head()"
   ]
  },
  {
   "cell_type": "code",
   "execution_count": 16,
   "metadata": {},
   "outputs": [
    {
     "output_type": "execute_result",
     "data": {
      "text/plain": [
       "'<table border=\"1\" class=\"dataframe\">\\n  <thead>\\n    <tr style=\"text-align: right;\">\\n      <th></th>\\n      <th>0</th>\\n      <th>1</th>\\n    </tr>\\n  </thead>\\n  <tbody>\\n    <tr>\\n      <th>0</th>\\n      <td>Equatorial Diameter:</td>\\n      <td>6,792 km</td>\\n    </tr>\\n    <tr>\\n      <th>1</th>\\n      <td>Polar Diameter:</td>\\n      <td>6,752 km</td>\\n    </tr>\\n    <tr>\\n      <th>2</th>\\n      <td>Mass:</td>\\n      <td>6.39 × 10^23 kg (0.11 Earths)</td>\\n    </tr>\\n    <tr>\\n      <th>3</th>\\n      <td>Moons:</td>\\n      <td>2 (Phobos &amp; Deimos)</td>\\n    </tr>\\n    <tr>\\n      <th>4</th>\\n      <td>Orbit Distance:</td>\\n      <td>227,943,824 km (1.38 AU)</td>\\n    </tr>\\n    <tr>\\n      <th>5</th>\\n      <td>Orbit Period:</td>\\n      <td>687 days (1.9 years)</td>\\n    </tr>\\n    <tr>\\n      <th>6</th>\\n      <td>Surface Temperature:</td>\\n      <td>-87 to -5 °C</td>\\n    </tr>\\n    <tr>\\n      <th>7</th>\\n      <td>First Record:</td>\\n      <td>2nd millennium BC</td>\\n    </tr>\\n    <tr>\\n      <th>8</th>\\n      <td>Recorded By:</td>\\n      <td>Egyptian astronomers</td>\\n    </tr>\\n  </tbody>\\n</table>'"
      ]
     },
     "metadata": {},
     "execution_count": 16
    }
   ],
   "source": [
    "html_table = df.to_html()\n",
    "html_table"
   ]
  },
  {
   "cell_type": "code",
   "execution_count": 17,
   "metadata": {},
   "outputs": [
    {
     "output_type": "execute_result",
     "data": {
      "text/plain": [
       "'<table border=\"1\" class=\"dataframe\">  <thead>    <tr style=\"text-align: right;\">      <th></th>      <th>0</th>      <th>1</th>    </tr>  </thead>  <tbody>    <tr>      <th>0</th>      <td>Equatorial Diameter:</td>      <td>6,792 km</td>    </tr>    <tr>      <th>1</th>      <td>Polar Diameter:</td>      <td>6,752 km</td>    </tr>    <tr>      <th>2</th>      <td>Mass:</td>      <td>6.39 × 10^23 kg (0.11 Earths)</td>    </tr>    <tr>      <th>3</th>      <td>Moons:</td>      <td>2 (Phobos &amp; Deimos)</td>    </tr>    <tr>      <th>4</th>      <td>Orbit Distance:</td>      <td>227,943,824 km (1.38 AU)</td>    </tr>    <tr>      <th>5</th>      <td>Orbit Period:</td>      <td>687 days (1.9 years)</td>    </tr>    <tr>      <th>6</th>      <td>Surface Temperature:</td>      <td>-87 to -5 °C</td>    </tr>    <tr>      <th>7</th>      <td>First Record:</td>      <td>2nd millennium BC</td>    </tr>    <tr>      <th>8</th>      <td>Recorded By:</td>      <td>Egyptian astronomers</td>    </tr>  </tbody></table>'"
      ]
     },
     "metadata": {},
     "execution_count": 17
    }
   ],
   "source": [
    "html_table.replace('\\n','')"
   ]
  },
  {
   "cell_type": "code",
   "execution_count": 41,
   "metadata": {},
   "outputs": [
    {
     "output_type": "stream",
     "name": "stdout",
     "text": [
      "4\n",
      "Cerberus Hemisphere Enhanced\n",
      "https://astrogeology.usgs.gov/cache/images/f5e372a36edfa389625da6d0cc25d905_cerberus_enhanced.tif_full.jpg\n",
      "4\n",
      "https://astrogeology.usgs.gov/cache/images/3778f7b43bbbc89d6e3cfabb3613ba93_schiaparelli_enhanced.tif_full.jpg\n",
      "4\n",
      "https://astrogeology.usgs.gov/cache/images/555e6403a6ddd7ba16ddb0e471cadcf7_syrtis_major_enhanced.tif_full.jpg\n",
      "4\n",
      "https://astrogeology.usgs.gov/cache/images/b3c7c6c9138f57b4756be9b9c43e3a48_valles_marineris_enhanced.tif_full.jpg\n",
      "[{'title': 'Cerberus Hemisphere Enhanced', 'link': 'https://astrogeology.usgs.gov/cache/images/f5e372a36edfa389625da6d0cc25d905_cerberus_enhanced.tif_full.jpg'}, {'title': 'Schiaparelli Hemisphere Enhanced', 'link': 'https://astrogeology.usgs.gov/cache/images/3778f7b43bbbc89d6e3cfabb3613ba93_schiaparelli_enhanced.tif_full.jpg'}, {'title': 'Syrtis Major Hemisphere Enhanced', 'link': 'https://astrogeology.usgs.gov/cache/images/555e6403a6ddd7ba16ddb0e471cadcf7_syrtis_major_enhanced.tif_full.jpg'}, {'title': 'Valles Marineris Hemisphere Enhanced', 'link': 'https://astrogeology.usgs.gov/cache/images/b3c7c6c9138f57b4756be9b9c43e3a48_valles_marineris_enhanced.tif_full.jpg'}]\n"
     ]
    }
   ],
   "source": [
    "all_hemisphere_links = []\n",
    "\n",
    "#visit main page to scrape first time:\n",
    "browser = init_browser()\n",
    "hemisphere_page = 'https://astrogeology.usgs.gov/search/results?q=hemisphere+enhanced&k1=target&v1=Mars'\n",
    "browser.visit(hemisphere_page)\n",
    "\n",
    "hem_obj = {}\n",
    "\n",
    "\n",
    "image_links = browser.find_by_css(\"a.product-item h3\")\n",
    "print(len(image_links))\n",
    "\n",
    "print(image_links[0].text)\n",
    "hem_obj['title'] = image_links[0].text\n",
    "\n",
    "image_links[0].click()\n",
    "\n",
    "img_url = browser.find_by_css('img.wide-image')\n",
    "print(img_url['src'])\n",
    "hem_obj['link'] = img_url['src']\n",
    "\n",
    "all_hemisphere_links.append(hem_obj)\n",
    "\n",
    "\n",
    "#visit main page to scrape second time:\n",
    "#hemisphere_page = 'https://astrogeology.usgs.gov/search/results?q=hemisphere+enhanced&k1=target&v1=Mars'\n",
    "browser.visit(hemisphere_page)\n",
    "hem_obj = {}\n",
    "\n",
    "image_links = browser.find_by_css(\"a.product-item h3\")\n",
    "print(len(image_links))\n",
    "\n",
    "hem_obj['title'] = image_links[1].text\n",
    "\n",
    "image_links[1].click()\n",
    "\n",
    "img_url = browser.find_by_css('img.wide-image')\n",
    "print(img_url['src'])\n",
    "\n",
    "hem_obj['link'] = img_url['src']\n",
    "\n",
    "all_hemisphere_links.append(hem_obj)\n",
    "\n",
    "\n",
    "#visit main page to scrape third time:\n",
    "#hemisphere_page = 'https://astrogeology.usgs.gov/search/results?q=hemisphere+enhanced&k1=target&v1=Mars'\n",
    "browser.visit(hemisphere_page)\n",
    "hem_obj = {}\n",
    "\n",
    "image_links = browser.find_by_css(\"a.product-item h3\")\n",
    "print(len(image_links))\n",
    "hem_obj['title'] = image_links[2].text\n",
    "\n",
    "image_links[2].click()\n",
    "\n",
    "img_url = browser.find_by_css('img.wide-image')\n",
    "print(img_url['src'])\n",
    "\n",
    "\n",
    "hem_obj['link'] = img_url['src']\n",
    "\n",
    "all_hemisphere_links.append(hem_obj)\n",
    "\n",
    "\n",
    "\n",
    "#visit main page to scrape fourth time:\n",
    "#hemisphere_page = 'https://astrogeology.usgs.gov/search/results?q=hemisphere+enhanced&k1=target&v1=Mars'\n",
    "browser.visit(hemisphere_page)\n",
    "\n",
    "hem_obj = {}\n",
    "\n",
    "image_links = browser.find_by_css(\"a.product-item h3\")\n",
    "print(len(image_links))\n",
    "\n",
    "hem_obj['title'] = image_links[3].text\n",
    "\n",
    "image_links[3].click()\n",
    "\n",
    "img_url = browser.find_by_css('img.wide-image')\n",
    "print(img_url['src'])\n",
    "\n",
    "hem_obj['link'] = img_url['src']\n",
    "\n",
    "all_hemisphere_links.append(hem_obj)\n",
    "\n",
    "print(all_hemisphere_links)\n",
    "\n",
    "# browser.back()\n",
    "\n",
    "# image_links[2].click()\n",
    "\n",
    "# img_url = browser.find_by_css('img.wide-image')\n",
    "# print(img_url['src'])\n",
    "\n",
    "# browser.back()\n",
    "\n"
   ]
  },
  {
   "cell_type": "code",
   "execution_count": 19,
   "metadata": {},
   "outputs": [],
   "source": [
    "conn = 'mongodb://localhost:27017'\n",
    "client = pymongo.MongoClient(conn)"
   ]
  },
  {
   "cell_type": "code",
   "execution_count": null,
   "metadata": {},
   "outputs": [],
   "source": []
  }
 ],
 "metadata": {
  "kernelspec": {
   "name": "python3",
   "display_name": "Python 3.8.5 64-bit ('base': conda)"
  },
  "language_info": {
   "codemirror_mode": {
    "name": "ipython",
    "version": 3
   },
   "file_extension": ".py",
   "mimetype": "text/x-python",
   "name": "python",
   "nbconvert_exporter": "python",
   "pygments_lexer": "ipython3",
   "version": "3.8.5"
  },
  "interpreter": {
   "hash": "7e619f16047683c59ed8e7b98cbb1ffe918f16ea1397fa52229cf3de81dc0641"
  }
 },
 "nbformat": 4,
 "nbformat_minor": 4
}